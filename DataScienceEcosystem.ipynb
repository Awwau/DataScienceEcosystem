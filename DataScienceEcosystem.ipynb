{
 "cells": [
  {
   "cell_type": "markdown",
   "id": "fb1e00bd-aed4-4bda-9a96-886f5987bcca",
   "metadata": {},
   "source": [
    "# Data Science Tools and Ecosystem"
   ]
  },
  {
   "cell_type": "markdown",
   "id": "c98964ae-fb61-4c98-bdbf-d2372dc32e37",
   "metadata": {},
   "source": [
    "In this notebook, Data Science Tools and Ecosystem are summarized."
   ]
  },
  {
   "cell_type": "markdown",
   "id": "a1d5fda9-cde2-49f7-925b-919bcff71ccd",
   "metadata": {},
   "source": [
    "**Objectives:**\n",
    "* List popular languages for Data Science\n",
    "* List libraries commonly used in Data Science\n",
    "* List data science  tools"
   ]
  },
  {
   "cell_type": "markdown",
   "id": "046fe678-2438-4959-be02-a5af2654fcec",
   "metadata": {},
   "source": [
    "Some of the popular languages that Data Scientists use are:\n",
    "1. Python\n",
    "2. R\n",
    "3. Scala\n",
    "4. Java"
   ]
  },
  {
   "cell_type": "markdown",
   "id": "33fb9c29-c435-4bae-9af5-391a4fe5b912",
   "metadata": {},
   "source": [
    "Some of the commonly used libraries used by Data Scientists include:\n",
    "1. NumPy\n",
    "2. Pandas\n",
    "3. Matplotlib"
   ]
  },
  {
   "cell_type": "markdown",
   "id": "36668c6a-8f28-4316-9f36-b4c239ff54ac",
   "metadata": {},
   "source": [
    "|Data Science Tools|\n",
    "|------------------|\n",
    "|mangoDB|\n",
    "|Apache Hadoop|\n",
    "|couchDB|"
   ]
  },
  {
   "cell_type": "markdown",
   "id": "45fa5708-da23-4083-973d-0f91efd69066",
   "metadata": {},
   "source": [
    "### Below are a few examples of evaluating arithmetic expressions in Python"
   ]
  },
  {
   "cell_type": "code",
   "execution_count": 13,
   "id": "d6531aff-9356-450b-b9f0-195b69e72445",
   "metadata": {},
   "outputs": [
    {
     "data": {
      "text/plain": [
       "17"
      ]
     },
     "execution_count": 13,
     "metadata": {},
     "output_type": "execute_result"
    }
   ],
   "source": [
    "#This a simple arithmetic expression to mutiply then add integers\n",
    "(3*4)+5\n"
   ]
  },
  {
   "cell_type": "code",
   "execution_count": 21,
   "id": "4f837240-2023-457e-b4c0-f36765d42bde",
   "metadata": {},
   "outputs": [
    {
     "name": "stdout",
     "output_type": "stream",
     "text": [
      "3.3333333333333335\n"
     ]
    }
   ],
   "source": [
    "#This will convert 200 minutes to hours by diving by 60\n",
    "h = 200/60\n",
    "print(h)"
   ]
  },
  {
   "cell_type": "markdown",
   "id": "81bc73ff-71bd-4e1f-9627-76fae33b3584",
   "metadata": {},
   "source": [
    "## Author\n",
    "Awwau Anidu"
   ]
  },
  {
   "cell_type": "code",
   "execution_count": null,
   "id": "6eeb896f-e5d9-4ff7-94b5-37fb011ba118",
   "metadata": {},
   "outputs": [],
   "source": []
  }
 ],
 "metadata": {
  "kernelspec": {
   "display_name": "Python 3 (ipykernel)",
   "language": "python",
   "name": "python3"
  },
  "language_info": {
   "codemirror_mode": {
    "name": "ipython",
    "version": 3
   },
   "file_extension": ".py",
   "mimetype": "text/x-python",
   "name": "python",
   "nbconvert_exporter": "python",
   "pygments_lexer": "ipython3",
   "version": "3.11.7"
  }
 },
 "nbformat": 4,
 "nbformat_minor": 5
}
